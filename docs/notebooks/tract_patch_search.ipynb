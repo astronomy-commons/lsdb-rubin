{
 "cells": [
  {
   "cell_type": "markdown",
   "id": "ddf1a606",
   "metadata": {},
   "source": [
    "# Tract-Patch Search"
   ]
  },
  {
   "cell_type": "code",
   "execution_count": null,
   "id": "60c77382",
   "metadata": {},
   "outputs": [],
   "source": [
    "# Client for Dask distributed computing\n",
    "from dask.distributed import Client\n",
    "\n",
    "# For reading the HATS catalogs and performing the cross-match\n",
    "import lsdb\n",
    "\n",
    "# For reading and working with skymaps for tract and patch searches\n",
    "import lsst.skymap\n",
    "import pickle\n",
    "\n",
    "# For accessing Rubin-specific lsdb methods; in this case, tract_patch_search\n",
    "from lsdb_rubin import tract_patch_search\n",
    "lsdb.catalog.Catalog.tract_patch_search = tract_patch_search"
   ]
  },
  {
   "cell_type": "code",
   "execution_count": null,
   "id": "c042a7e1",
   "metadata": {},
   "outputs": [],
   "source": [
    "client = Client(n_workers=4, memory_limit=\"auto\")\n",
    "client"
   ]
  },
  {
   "cell_type": "markdown",
   "id": "27d5ca08",
   "metadata": {},
   "source": [
    "## Load GAIA and the LSST skymap"
   ]
  },
  {
   "cell_type": "code",
   "execution_count": null,
   "id": "1d8192f6",
   "metadata": {},
   "outputs": [],
   "source": [
    "# Load GAIA DR3 data.\n",
    "\n",
    "gaia = lsdb.read_hats('https://data.lsdb.io/hats/gaia_dr3/gaia', margin_cache='https://data.lsdb.io/hats/gaia_dr3/gaia_10arcs')\n",
    "gaia"
   ]
  },
  {
   "cell_type": "code",
   "execution_count": null,
   "id": "857f3535",
   "metadata": {},
   "outputs": [],
   "source": [
    "# Load the LSST skymap.\n",
    "\n",
    "lsst_skymap_path = \"/sdf/home/o/olynn/LINCC/Skymaps/skyMap_lsst_cells_v1_skymaps.pickle\"\n",
    "\n",
    "with open(lsst_skymap_path, \"rb\") as f:\n",
    "    lsst_skymap = pickle.load(f)\n",
    "    print(lsst_skymap)"
   ]
  },
  {
   "cell_type": "markdown",
   "id": "bb4bac82",
   "metadata": {},
   "source": [
    "## Use RA/Dec to get tract and patch IDs"
   ]
  },
  {
   "cell_type": "code",
   "execution_count": null,
   "id": "e4595bbb",
   "metadata": {},
   "outputs": [],
   "source": [
    "# Get tract and patch numbers for a given RA and Dec.\n",
    "\n",
    "ra_float = 42.0\n",
    "dec_float = 2.0\n",
    "\n",
    "longitude = lsst.geom.Angle(ra_float, lsst.geom.degrees)\n",
    "latitude = lsst.geom.Angle(dec_float, lsst.geom.degrees)\n",
    "sphere_point = lsst.geom.SpherePoint(longitude, latitude)\n",
    "\n",
    "tract_patch_list = lsst_skymap.findTractPatchList([sphere_point])\n",
    "tract_patch_list\n",
    "\n",
    "tract_index = tract_patch_list[0][0]._id\n",
    "patch_index = tract_patch_list[0][1][0]._sequentialIndex\n",
    "\n",
    "print(f\"Tract: {tract_index}, Patch: {patch_index}\")"
   ]
  },
  {
   "cell_type": "code",
   "execution_count": null,
   "id": "e9009c07",
   "metadata": {},
   "outputs": [],
   "source": [
    "# Get tract and patch numbers for a given RA and Dec.\n",
    "\n",
    "ra_float = 300\n",
    "dec_float = -15\n",
    "\n",
    "longitude = lsst.geom.Angle(ra_float, lsst.geom.degrees)\n",
    "latitude = lsst.geom.Angle(dec_float, lsst.geom.degrees)\n",
    "sphere_point = lsst.geom.SpherePoint(longitude, latitude)\n",
    "\n",
    "tract_patch_list = lsst_skymap.findTractPatchList([sphere_point])\n",
    "tract_patch_list\n",
    "\n",
    "tract_index = tract_patch_list[0][0]._id\n",
    "patch_index = tract_patch_list[0][1][0]._sequentialIndex\n",
    "\n",
    "print(f\"Tract: {tract_index}, Patch: {patch_index}\")\n",
    "\n",
    "# TODO : Account for multiple tracts/patches (eg, ra: 42, dec: 3)"
   ]
  },
  {
   "cell_type": "markdown",
   "id": "e68839f6",
   "metadata": {},
   "source": [
    "## Search by tract and patch IDs"
   ]
  },
  {
   "cell_type": "markdown",
   "id": "97bfbbfc",
   "metadata": {},
   "source": [
    "### Search by tract"
   ]
  },
  {
   "cell_type": "code",
   "execution_count": null,
   "id": "c06826c7",
   "metadata": {},
   "outputs": [],
   "source": [
    "# Only specify the tract (and not patch) to search by tract.\n",
    "\n",
    "gaia_tract = gaia.tract_patch_search(\n",
    "    skymap=lsst_skymap,\n",
    "    tract=tract_index,\n",
    "    fine=True,\n",
    ")\n",
    "gaia_tract"
   ]
  },
  {
   "cell_type": "code",
   "execution_count": null,
   "id": "dc2fb6a5",
   "metadata": {},
   "outputs": [],
   "source": [
    "gaia_tract.plot_pixels(\n",
    "    plot_title=\"Gaia DR3 Tract Search\",\n",
    "    fc=\"#00000000\",\n",
    "    ec=\"red\",\n",
    "    alpha=0.5,\n",
    ")"
   ]
  },
  {
   "cell_type": "markdown",
   "id": "c5fe192e",
   "metadata": {},
   "source": [
    "### Search by tract and patch"
   ]
  },
  {
   "cell_type": "code",
   "execution_count": null,
   "id": "959956c6",
   "metadata": {},
   "outputs": [],
   "source": [
    "# Specify both tract and patch to search by tract and patch.\n",
    "\n",
    "gaia_tract_patch = gaia.tract_patch_search(\n",
    "    skymap=lsst_skymap,\n",
    "    tract=tract_index,\n",
    "    patch=patch_index,\n",
    "    fine=True,\n",
    ")\n",
    "gaia_tract_patch"
   ]
  },
  {
   "cell_type": "code",
   "execution_count": null,
   "id": "cfa994c5",
   "metadata": {},
   "outputs": [],
   "source": [
    "gaia_tract_patch.plot_pixels(\n",
    "    plot_title=\"Gaia DR3 Tract and Patch Search\",\n",
    "    fc=\"#00000000\",\n",
    "    ec=\"red\",\n",
    "    alpha=0.5,\n",
    ")"
   ]
  },
  {
   "cell_type": "code",
   "execution_count": null,
   "id": "ebda8bb8",
   "metadata": {},
   "outputs": [],
   "source": [
    "df = gaia_tract_patch.compute()\n",
    "df"
   ]
  },
  {
   "cell_type": "code",
   "execution_count": null,
   "id": "1fcf224f",
   "metadata": {},
   "outputs": [],
   "source": [
    "from lsdb.core.plotting import plot_points\n",
    "\n",
    "plot_points.plot_points(\n",
    "    df,\n",
    "    ra_column=\"ra\",\n",
    "    dec_column=\"dec\",\n",
    "    title=\"Gaia DR3 Tract and Patch Search\",\n",
    ")"
   ]
  },
  {
   "cell_type": "markdown",
   "id": "898e778d",
   "metadata": {},
   "source": [
    "### Set `user_inner` to True to search the \"inner\" region of the tract or patch"
   ]
  },
  {
   "cell_type": "markdown",
   "id": "2b72add3",
   "metadata": {},
   "source": [
    "Read more at the [LSST Skymap Docs](https://github.com/lsst/skymap/blob/main/doc/main.dox):\n",
    "\n",
    "> Tracts contain an inner region described by a collection of vertices. The inner regions exactly tile the portion of sky covered by the sky map. All pixels beyond the inner region provide overlap with neighboring tracts.\n",
    "\n",
    "> Patches contain rectangular inner and outer regions. The inner regions exactly tile the tract, and all patches in a tract have the same inner dimensions. Each patch has a border around the inner region to provide some overlap with adjacent patches, but there is no border on patch edges that lie against tract boundaries."
   ]
  },
  {
   "cell_type": "markdown",
   "id": "098369c0",
   "metadata": {},
   "source": [
    "Note that `use_inner` may be specified for either a tract or a patch search."
   ]
  },
  {
   "cell_type": "code",
   "execution_count": null,
   "id": "2f2819d7",
   "metadata": {},
   "outputs": [],
   "source": [
    "gaia_tract_patch_outer = gaia.tract_patch_search(\n",
    "    skymap=lsst_skymap,\n",
    "    tract=tract_index,\n",
    "    patch=patch_index,\n",
    "    fine=True,\n",
    "    use_inner=True,\n",
    ")\n",
    "gaia_tract_patch_outer"
   ]
  },
  {
   "cell_type": "code",
   "execution_count": null,
   "id": "cac0bf23",
   "metadata": {},
   "outputs": [],
   "source": [
    "df = gaia_tract_patch_outer.compute()\n",
    "df"
   ]
  }
 ],
 "metadata": {
  "kernelspec": {
   "display_name": "Python 3 (ipykernel)",
   "language": "python",
   "name": "python3"
  },
  "language_info": {
   "codemirror_mode": {
    "name": "ipython",
    "version": 3
   },
   "file_extension": ".py",
   "mimetype": "text/x-python",
   "name": "python",
   "nbconvert_exporter": "python",
   "pygments_lexer": "ipython3",
   "version": "3.12.9"
  }
 },
 "nbformat": 4,
 "nbformat_minor": 5
}
